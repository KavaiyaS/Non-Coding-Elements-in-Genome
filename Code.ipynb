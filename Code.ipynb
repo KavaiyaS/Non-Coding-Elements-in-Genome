{
 "cells": [
  {
   "cell_type": "code",
   "execution_count": 6,
   "id": "d0d59869",
   "metadata": {},
   "outputs": [
    {
     "name": "stdout",
     "output_type": "stream",
     "text": [
      "acataccaaaatttaatttcaaagtgaactatccctttaa\n",
      "acataccaaaatttaatttcaaagtgaactatccctttab\n",
      "DNA is not match\n",
      "38  \n"
     ]
    }
   ],
   "source": [
    "var = input()\n",
    "var1 = input()\n",
    "arr1 = list(var)\n",
    "arr2 = list(var1)\n",
    "i = 0\n",
    "if(var != var1):\n",
    "    print(\"DNA is not match\")\n",
    "    for i in range (i,len(var1)):\n",
    "        if(arr1[i]!=arr2[i]):\n",
    "            print(i-1,\" \")\n",
    "        i=i+1\n",
    "\n",
    "else:    \n",
    "    print(\"DNA is match\")"
   ]
  }
 ],
 "metadata": {
  "kernelspec": {
   "display_name": "Python 3 (ipykernel)",
   "language": "python",
   "name": "python3"
  },
  "language_info": {
   "codemirror_mode": {
    "name": "ipython",
    "version": 3
   },
   "file_extension": ".py",
   "mimetype": "text/x-python",
   "name": "python",
   "nbconvert_exporter": "python",
   "pygments_lexer": "ipython3",
   "version": "3.11.3"
  }
 },
 "nbformat": 4,
 "nbformat_minor": 5
}
